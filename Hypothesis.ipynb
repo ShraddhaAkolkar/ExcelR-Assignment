{
 "cells": [
  {
   "cell_type": "markdown",
   "id": "faf295c9-269f-4198-8201-cb4c54fc4696",
   "metadata": {},
   "source": [
    "# HYPOTHESIS TESTING\n",
    "### Background:\n",
    "#### Bombay hospitality Ltd. operates a franchise model for producing exotic Norwegian dinners throughout New England. The operating cost for a franchise in a week (W) is given by the equation W = $1,000 + $5X, where X represents the number of units produced in a week. Recent feedback from restaurant owners suggests that this cost model may no longer be accurate, as their observed weekly operating costs are higher."
   ]
  },
  {
   "cell_type": "code",
   "execution_count": 1,
   "id": "daddd547-b58b-455f-ba41-dacebe01c5f2",
   "metadata": {},
   "outputs": [],
   "source": [
    "import numpy as np\n",
    "from scipy import stats"
   ]
  },
  {
   "cell_type": "raw",
   "id": "45ac7102-7ca8-4ad0-bdd9-c0c1eea18a66",
   "metadata": {},
   "source": [
    "Step I \n",
    "The hypothesis is that the observed weekly operating costs are higher than what the current model predicts. \n",
    "To test this hypothesis, we can compare the actual operating costs with the costs predicted by the model. \n",
    "If the observed costs consistently exceed the model’s predictions, it suggests that the model needs adjustment\n",
    "\n",
    "null Hypothesis : µ = model (W)\" \n",
    "alternate Hypothesis : µ > Model (W)\"\n",
    "\n",
    "Step II\n",
    "Confidence (c) : 95%\n",
    "Significance level alpha α : 1 - c = 0.05\n",
    "\n",
    "Step III\n",
    "sample mean (ˉxˉ) =   sample mean weekly cost (Rs. 3,050)\n",
    "           μ      =   theoretical mean weekly cost according to the cost model (W = $1,000 + $5X for X = 600 units)\n",
    "                                                   : 1000 + (5 * 600) = 4000 \n",
    "           σ      =   5*25 units\n",
    "           n      =   sample size (25 restaurants)\n",
    "\n",
    "Calculate the Test Statistic:\n",
    "t - stats :\n",
    "           t      = (3050 - 4000) / (125/5)       : (xbar - μ) / (s / n)\n",
    "                 = -38\n",
    "\n",
    "Determine the Critical Value:\n",
    "               critical value : 1.6448 ( for one tail higher than operating cost)\n",
    "               critical value : 1.96    ( for two tail test )"
   ]
  },
  {
   "cell_type": "code",
   "execution_count": 1,
   "id": "ab8c946c-defd-4fb9-9a7a-43ab4b6e2461",
   "metadata": {},
   "outputs": [
    {
     "data": {
      "text/plain": [
       "1.6448536269514722"
      ]
     },
     "execution_count": 1,
     "metadata": {},
     "output_type": "execute_result"
    }
   ],
   "source": [
    "import scipy.stats as stats\n",
    "stats.norm.ppf(1-0.05)"
   ]
  },
  {
   "cell_type": "raw",
   "id": "6fba3f73-a954-455e-a7d7-8e1823e7ea0c",
   "metadata": {},
   "source": [
    "the test statistic (t) is greater than the critical value we reject the null hypothesis.\n",
    "However, our test statistic is −38, which is far less than the critical value 1.645\n",
    "Therefore, we failed to reject the null hypothesis.\n",
    "Based on the hypothesis test, we do not have enough evidence to support the restaurant owners' claim that the mean weekly operating cost is higher than the model."
   ]
  },
  {
   "cell_type": "code",
   "execution_count": null,
   "id": "e12f828a-7a99-482f-aabf-c067b59443f2",
   "metadata": {},
   "outputs": [],
   "source": []
  },
  {
   "cell_type": "code",
   "execution_count": null,
   "id": "1e0171e2-9f1a-4ae0-99a9-0f12697e1772",
   "metadata": {},
   "outputs": [],
   "source": []
  },
  {
   "cell_type": "code",
   "execution_count": 1,
   "id": "9ece6ea0-a948-4c4d-9895-706ca8814d74",
   "metadata": {},
   "outputs": [],
   "source": [
    "import scipy.stats as stats\n",
    "import numpy as np"
   ]
  },
  {
   "cell_type": "code",
   "execution_count": 2,
   "id": "8db883c8-1d51-4c1a-a7c5-30f30463a979",
   "metadata": {},
   "outputs": [],
   "source": [
    "x_bar = 3050  # Sample mean weekly cost\n",
    "μ = 1000 + 5 * 600  # Theoretical mean weekly cost according to the model\n",
    "s = 5 * 25  # Standard deviation of sample\n",
    "n = 25  # Sample size\n",
    "alpha = 0.05  # Significance level\n",
    "\n",
    "# Hypotheses statement: To investigate the restaurant owners' claim about the increase in weekly operating costs\n",
    "                      # Null Hypothesis (H0): μ = 4000\n",
    "                      # Alternative Hypothesis (Ha):  μ > 4000\n",
    "\n",
    "# Calculating the Test Statistic (t-test):\n",
    "t_score = (x_bar - μ) / (s / (np.sqrt(n)))\n",
    "\n",
    "#Determine the Critical Value:\n",
    "#critical value from the standard normal (Z) distribution table.\n",
    "d_o_f = n - 1\n",
    "critical_value = stats.norm.ppf(1 - alpha)\n",
    "\n",
    "# Make a Decision:\n",
    "if t_score > critical_value:\n",
    "    decision = \"Reject the null hypothesis\"\n",
    "else:\n",
    "    decision = \"Failed to reject the null hypothesis\""
   ]
  },
  {
   "cell_type": "code",
   "execution_count": 5,
   "id": "abcaea6c-bf2b-4fb1-a49a-3f12c66945d9",
   "metadata": {},
   "outputs": [
    {
     "name": "stdout",
     "output_type": "stream",
     "text": [
      "test Statistic : -38.0\n",
      "Critical Value: 1.64485\n",
      "Decision: Failed to reject the null hypothesis\n",
      "However, our test statistic is −38, which is far less than the critical value 1.645 \n",
      "Therefore, we failed to reject the null hypothesis.\n",
      "Based on the hypothesis test, we do not have enough evidence to support the restaurant owners' claim that the mean weekly operating cost is higher than the model.\n"
     ]
    }
   ],
   "source": [
    "print(\"test Statistic :\", t_score)\n",
    "print(\"Critical Value:\", critical_value.round(5))\n",
    "print(\"Decision:\", decision)\n",
    "print(\"However, our test statistic is −38, which is far less than the critical value 1.645 \\nTherefore, we failed to reject the null hypothesis.\\nBased on the hypothesis test, we do not have enough evidence to support the restaurant owners' claim that the mean weekly operating cost is higher than the model.\")"
   ]
  },
  {
   "cell_type": "code",
   "execution_count": null,
   "id": "a4d032e1-61dd-4e1d-b9c7-ad421ccc7923",
   "metadata": {},
   "outputs": [],
   "source": []
  }
 ],
 "metadata": {
  "kernelspec": {
   "display_name": "Python 3 (ipykernel)",
   "language": "python",
   "name": "python3"
  },
  "language_info": {
   "codemirror_mode": {
    "name": "ipython",
    "version": 3
   },
   "file_extension": ".py",
   "mimetype": "text/x-python",
   "name": "python",
   "nbconvert_exporter": "python",
   "pygments_lexer": "ipython3",
   "version": "3.11.7"
  }
 },
 "nbformat": 4,
 "nbformat_minor": 5
}
