{
 "cells": [
  {
   "cell_type": "markdown",
   "id": "13940411-f2a6-4ecf-a80a-10896111ccc0",
   "metadata": {},
   "source": [
    "# Prime Number"
   ]
  },
  {
   "cell_type": "raw",
   "id": "673994e1-00dd-44b6-87ec-7df3c8fcf589",
   "metadata": {},
   "source": [
    "Exercise 1: Prime Numbers\n",
    "Write a Python program that checks whether a given number is prime or not. A prime number is a natural number greater than 1 that has no positive divisors other than 1 and itself."
   ]
  },
  {
   "cell_type": "code",
   "execution_count": 1,
   "id": "7a16cddb-6d95-4131-adf7-c7b515dcb90b",
   "metadata": {},
   "outputs": [],
   "source": [
    "def is_prime(num):\n",
    "    if num <= 1:\n",
    "        return False\n",
    "    elif num == 2:\n",
    "        return True\n",
    "    elif num % 2 == 0:\n",
    "        return False\n",
    "    else:\n",
    "        for i in range(3, int(num**0.5) + 1, 2):\n",
    "            if num % i == 0:\n",
    "                return False\n",
    "        return True"
   ]
  },
  {
   "cell_type": "code",
   "execution_count": 2,
   "id": "4532bbac-895a-4265-83e8-a6dd6e456603",
   "metadata": {},
   "outputs": [
    {
     "name": "stdin",
     "output_type": "stream",
     "text": [
      "Enter a number to check if it's prime:  7\n"
     ]
    },
    {
     "name": "stdout",
     "output_type": "stream",
     "text": [
      "7 is a prime number.\n"
     ]
    }
   ],
   "source": [
    "# Test the function\n",
    "num = int(input(\"Enter a number to check if it's prime: \"))\n",
    "if is_prime(num):\n",
    "    print(f\"{num} is a prime number.\")\n",
    "else:\n",
    "    print(f\"{num} is not a prime number.\")"
   ]
  },
  {
   "cell_type": "markdown",
   "id": "15e4124d-2a6d-4aaf-8b17-cad13ed9d5c4",
   "metadata": {},
   "source": [
    "# Product of random number guessing"
   ]
  },
  {
   "cell_type": "raw",
   "id": "32c4b08f-6756-44eb-9b8b-95dc4a5eb546",
   "metadata": {},
   "source": [
    "Exercise 2: Product of Random Numbers\n",
    "Develop a Python program that generates two random numbers and asks the user to enter the product of these numbers. The program should then check if the user's answer is correct and display an appropriate message."
   ]
  },
  {
   "cell_type": "code",
   "execution_count": 3,
   "id": "44a516bb-b518-40e4-bd5f-79bd85840d16",
   "metadata": {},
   "outputs": [],
   "source": [
    "import random"
   ]
  },
  {
   "cell_type": "code",
   "execution_count": 4,
   "id": "aee7816b-abca-4d22-81b4-c976234dfde1",
   "metadata": {},
   "outputs": [],
   "source": [
    "## generate the two number for the execution\n",
    "num1 = random.randint(1, 15)\n",
    "num2 = random.randint(1, 15)\n",
    "product = num1 * num2"
   ]
  },
  {
   "cell_type": "code",
   "execution_count": 5,
   "id": "ec25eecb-09d9-4f81-b2bf-ed46db8b76c8",
   "metadata": {},
   "outputs": [
    {
     "name": "stdout",
     "output_type": "stream",
     "text": [
      "10\n",
      "10\n",
      "100\n"
     ]
    }
   ],
   "source": [
    "print(num1)\n",
    "print(num2)\n",
    "print(product)"
   ]
  },
  {
   "cell_type": "code",
   "execution_count": 6,
   "id": "2768454b-d746-48a4-9c59-1d0037767023",
   "metadata": {},
   "outputs": [
    {
     "name": "stdin",
     "output_type": "stream",
     "text": [
      "what is the product of 10and10? 100\n"
     ]
    }
   ],
   "source": [
    "## ask user for their guess\n",
    "guess = int(input(\"what is the product of \" + str(num1) + \"and\" + str(num2) + \"?\" ))"
   ]
  },
  {
   "cell_type": "code",
   "execution_count": 7,
   "id": "906a38aa-126d-4105-a081-10d5b4ceea80",
   "metadata": {},
   "outputs": [
    {
     "name": "stdout",
     "output_type": "stream",
     "text": [
      "congrats!!, your guess is correct\n"
     ]
    }
   ],
   "source": [
    "## now we have to check whether the guess of user is correct or not\n",
    "\n",
    "if guess == product:\n",
    "    print(\"congrats!!, your guess is correct\")\n",
    "else:\n",
    "    print(\"oops!, you are failed to guess the number\")"
   ]
  },
  {
   "cell_type": "markdown",
   "id": "8a64f92e-9eb8-43af-a5ed-cfc6f5047db9",
   "metadata": {},
   "source": [
    "# Squares of even/odd numbers"
   ]
  },
  {
   "cell_type": "raw",
   "id": "24a2cc4b-bfa1-4634-b655-ebdefcb02afd",
   "metadata": {},
   "source": [
    "Exercise 3: Squares of Even/Odd Numbers\n",
    "Create a Python script that prints the squares of all even or odd numbers within the range of 100 to 200. Choose either even or odd numbers and document your choice in the code."
   ]
  },
  {
   "cell_type": "code",
   "execution_count": 3,
   "id": "64d85bb3-cef2-440b-98a4-b8c0c20d4920",
   "metadata": {},
   "outputs": [],
   "source": [
    "## the range between the number is given\n",
    "start_num = 100\n",
    "end_num = 200"
   ]
  },
  {
   "cell_type": "code",
   "execution_count": 4,
   "id": "7c04bd71-4496-478f-8c97-8df05e6ddd50",
   "metadata": {},
   "outputs": [],
   "source": [
    "### in this we separate the odd and even values between the range\n",
    "\n",
    "odd_num = []\n",
    "even_num = []\n",
    "\n",
    "for i in range(start_num, end_num+1):\n",
    "    if i % 2 == 0:\n",
    "        even_num.append(i)\n",
    "    else:\n",
    "        odd_num.append(i)"
   ]
  },
  {
   "cell_type": "code",
   "execution_count": 6,
   "id": "aafd16d6-bc8d-41fb-a724-67454704b2bf",
   "metadata": {},
   "outputs": [
    {
     "data": {
      "text/plain": [
       "array([10201, 10609, 11025, 11449, 11881, 12321, 12769, 13225, 13689,\n",
       "       14161, 14641, 15129, 15625, 16129, 16641, 17161, 17689, 18225,\n",
       "       18769, 19321, 19881, 20449, 21025, 21609, 22201, 22801, 23409,\n",
       "       24025, 24649, 25281, 25921, 26569, 27225, 27889, 28561, 29241,\n",
       "       29929, 30625, 31329, 32041, 32761, 33489, 34225, 34969, 35721,\n",
       "       36481, 37249, 38025, 38809, 39601])"
      ]
     },
     "execution_count": 6,
     "metadata": {},
     "output_type": "execute_result"
    }
   ],
   "source": [
    "import numpy as np\n",
    "\n",
    "odd_square = np.square(odd_num)\n",
    "odd_square"
   ]
  },
  {
   "cell_type": "code",
   "execution_count": 8,
   "id": "7e423848-3f3a-4607-aa43-ca344cdceda5",
   "metadata": {},
   "outputs": [
    {
     "data": {
      "text/plain": [
       "array([10000, 10404, 10816, 11236, 11664, 12100, 12544, 12996, 13456,\n",
       "       13924, 14400, 14884, 15376, 15876, 16384, 16900, 17424, 17956,\n",
       "       18496, 19044, 19600, 20164, 20736, 21316, 21904, 22500, 23104,\n",
       "       23716, 24336, 24964, 25600, 26244, 26896, 27556, 28224, 28900,\n",
       "       29584, 30276, 30976, 31684, 32400, 33124, 33856, 34596, 35344,\n",
       "       36100, 36864, 37636, 38416, 39204, 40000])"
      ]
     },
     "execution_count": 8,
     "metadata": {},
     "output_type": "execute_result"
    }
   ],
   "source": [
    "even_square = np.square(even_num)\n",
    "even_square"
   ]
  },
  {
   "cell_type": "markdown",
   "id": "1455e6fa-1546-47df-8432-9829057b6a60",
   "metadata": {},
   "source": [
    "# Word Counter"
   ]
  },
  {
   "cell_type": "raw",
   "id": "486c478c-aa55-4865-ad0f-1a650da97f53",
   "metadata": {},
   "source": [
    "Exercise 4: Word counter\n",
    "write a program to count the number of words in a given text.\n",
    "example:\n",
    "input_text = \"This is a sample text. This text will be used to demonstrate the word counter.\""
   ]
  },
  {
   "cell_type": "code",
   "execution_count": 1,
   "id": "90496362-d3c1-481f-8b2c-ba3d5f761756",
   "metadata": {},
   "outputs": [],
   "source": [
    "def count_word(text):\n",
    "    text = text.lower()\n",
    "    # split the text into words using whitespace as delimiter\n",
    "    words = text.split()\n",
    "    word_count = {}\n",
    "\n",
    "    for i in words:\n",
    "        if i in word_count:\n",
    "            word_count[i] += 1\n",
    "        else:\n",
    "            word_count[i] = 1\n",
    "    return word_count"
   ]
  },
  {
   "cell_type": "code",
   "execution_count": 2,
   "id": "78847042-6d45-47b5-8943-ff0e727834c4",
   "metadata": {},
   "outputs": [
    {
     "name": "stdout",
     "output_type": "stream",
     "text": [
      "{'this': 2, 'is': 1, 'a': 1, 'sample': 1, 'text.': 1, 'text': 1, 'will': 1, 'be': 1, 'used': 1, 'to': 1, 'demostrate': 1, 'the': 1, 'word': 1, 'counter.': 1}\n"
     ]
    }
   ],
   "source": [
    "# Example text\n",
    "text = \"This is a sample text. This text will be used to demostrate the word counter.\"\n",
    "word_count = count_word(text)\n",
    "print(word_count)"
   ]
  },
  {
   "cell_type": "markdown",
   "id": "f3b51fb0-f9e4-467c-a77b-23e387db8019",
   "metadata": {},
   "source": [
    "# Palindrome"
   ]
  },
  {
   "cell_type": "raw",
   "id": "f3ec5aec-37fd-4001-b7c2-4456acd0c64e",
   "metadata": {},
   "source": [
    "Exercise 5: Check for Palindrome\n",
    "Write a Python function called is_palindrome that takes a string as input and returns True if the string is a palindrome, and False otherwise. A palindrome is a word, phrase, number, or other sequence of characters that reads the same forward and backward, ignoring spaces, punctuation, and capitalization."
   ]
  },
  {
   "cell_type": "code",
   "execution_count": 9,
   "id": "4a01b019-ec72-493c-a921-c41269fd05c7",
   "metadata": {},
   "outputs": [
    {
     "name": "stdin",
     "output_type": "stream",
     "text": [
      "Enter anything to check for palindrome:  radar\n"
     ]
    },
    {
     "name": "stdout",
     "output_type": "stream",
     "text": [
      "True\n"
     ]
    }
   ],
   "source": [
    "def is_palindrome(input_string):\n",
    "    # Remove non-alphanumeric characters and convert to lowercase\n",
    "    cleaned_string = ''.join(char.lower() for char in input_string if char.isalnum())\n",
    "\n",
    "    # Check if cleaned_string is equal to its reverse\n",
    "    return cleaned_string == cleaned_string[::-1]\n",
    "\n",
    "\n",
    "user_input = input(\"Enter anything to check for palindrome: \")\n",
    "if is_palindrome(user_input):\n",
    "    print(\"True\")\n",
    "else:\n",
    "    print(\"False.\""
   ]
  },
  {
   "cell_type": "code",
   "execution_count": null,
   "id": "14edb4c4-341d-47b4-a50a-8f0a59285cff",
   "metadata": {},
   "outputs": [],
   "source": []
  }
 ],
 "metadata": {
  "kernelspec": {
   "display_name": "Python 3 (ipykernel)",
   "language": "python",
   "name": "python3"
  },
  "language_info": {
   "codemirror_mode": {
    "name": "ipython",
    "version": 3
   },
   "file_extension": ".py",
   "mimetype": "text/x-python",
   "name": "python",
   "nbconvert_exporter": "python",
   "pygments_lexer": "ipython3",
   "version": "3.11.7"
  }
 },
 "nbformat": 4,
 "nbformat_minor": 5
}
