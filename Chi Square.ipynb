{
 "cells": [
  {
   "cell_type": "markdown",
   "id": "b4bba173-7cda-4b14-bffd-2178c7c00c18",
   "metadata": {},
   "source": [
    "# CHI-SQUARE TEST"
   ]
  },
  {
   "cell_type": "markdown",
   "id": "86c122d6-1154-40bd-aae9-c5d9be4249ca",
   "metadata": {},
   "source": [
    "#### Association between Device Type and Customer Satisfaction\n",
    "#### Background:\n",
    "#### Mizzare Corporation has collected data on customer satisfaction levels for two types of smart home devices: Smart Thermostats and Smart Lights. They want to determine if there's a significant association between the type of device purchased and the customer's satisfaction level."
   ]
  },
  {
   "cell_type": "code",
   "execution_count": 1,
   "id": "ce2f921a-64e7-4dfc-83dd-a3c5638c3e02",
   "metadata": {},
   "outputs": [
    {
     "name": "stdout",
     "output_type": "stream",
     "text": [
      "       Satisfaction  Smart Thermostat  Smart Light  Total\n",
      "0    Very Satisfied                50           70    120\n",
      "1         Satisfied                80          100    180\n",
      "2           Neutral                60           90    150\n",
      "3       Unsatisfied                30           50     80\n",
      "4  Very Unsatisfied                20           50     70\n",
      "5             Total               240          360    600\n"
     ]
    }
   ],
   "source": [
    "import pandas as pd\n",
    "# Data for the DataFrame\n",
    "data = {'Satisfaction': ['Very Satisfied', 'Satisfied', 'Neutral', 'Unsatisfied', 'Very Unsatisfied', 'Total'],\n",
    "    'Smart Thermostat': [50, 80, 60, 30, 20, 240],\n",
    "    'Smart Light': [70, 100, 90, 50, 50, 360],\n",
    "    'Total': [120, 180, 150, 80, 70, 600]}\n",
    "# Create the DataFrame\n",
    "df = pd.DataFrame(data)\n",
    "# Display the DataFrame\n",
    "print(df)"
   ]
  },
  {
   "cell_type": "raw",
   "id": "93b150d9-91dc-4c62-ab84-6e1295f68b69",
   "metadata": {},
   "source": [
    "Objective:\n",
    "To use the Chi-Square test for independence to determine if there's a significant association between the type of smart home device purchased (Smart Thermostats vs. Smart Lights) and the customer satisfaction level.\n",
    "\n",
    "Hypotheses: \n",
    " null hypothesis (H0)      :      There is no significant association between satisfaction and smart thermostat/smart light usage.\n",
    " alternate Hypothesis (Ha) :      There is significant association between satisfaction and smart thermostat/smart light usage.\n",
    "\n",
    " expected frequencies (E)  : (row total * column total) / total\n",
    "                       E(very satisfied)    : 48    , 72\n",
    "                        Satisfied           : 72    , 108\n",
    "                        Neutral             : 60    , 90\n",
    "                        Unsatisfied         : 32    , 48\n",
    "                        Very Unsatisfied    : 28    , 42"
   ]
  },
  {
   "cell_type": "code",
   "execution_count": 2,
   "id": "f19f8c96-9117-4920-af70-9baa7302a304",
   "metadata": {},
   "outputs": [
    {
     "data": {
      "text/plain": [
       "[[50, 70], [80, 100], [60, 90], [30, 50], [20, 50]]"
      ]
     },
     "execution_count": 2,
     "metadata": {},
     "output_type": "execute_result"
    }
   ],
   "source": [
    "table = [[50,70],[80,100],[60,90],[30,50],[20,50]]\n",
    "table"
   ]
  },
  {
   "cell_type": "code",
   "execution_count": 3,
   "id": "ead7cbd9-305e-4b42-bb9a-b6da349d055f",
   "metadata": {},
   "outputs": [
    {
     "name": "stdout",
     "output_type": "stream",
     "text": [
      "dof=4\n",
      "0.22784371130697179\n"
     ]
    }
   ],
   "source": [
    "from scipy import stats\n",
    "stat, p, dof, expected = stats.chi2_contingency(table)\n",
    "print('dof=%d' % dof)\n",
    "print(p)"
   ]
  },
  {
   "cell_type": "code",
   "execution_count": 4,
   "id": "9ef286da-fbff-4617-80da-83eb64cdccf4",
   "metadata": {},
   "outputs": [
    {
     "data": {
      "text/plain": [
       "array([[ 48.,  72.],\n",
       "       [ 72., 108.],\n",
       "       [ 60.,  90.],\n",
       "       [ 32.,  48.],\n",
       "       [ 28.,  42.]])"
      ]
     },
     "execution_count": 4,
     "metadata": {},
     "output_type": "execute_result"
    }
   ],
   "source": [
    "expected"
   ]
  },
  {
   "cell_type": "code",
   "execution_count": 5,
   "id": "9add888b-6a98-4d73-95f4-07e3f1d097fe",
   "metadata": {},
   "outputs": [
    {
     "name": "stdout",
     "output_type": "stream",
     "text": [
      "significance=0.050, p=0.228\n",
      "Independent - There is no significant relationship between gender and interest in a specific subject.\n"
     ]
    }
   ],
   "source": [
    "# interpret p-value\n",
    "alpha = 0.05\n",
    "print('significance=%.3f, p=%.3f' % (alpha, p))\n",
    "if p <= alpha:\n",
    "    print('Dependent - There is a significant relationship between gender and interest in a specific subject.')\n",
    "else:\n",
    "    print('Independent - There is no significant relationship between gender and interest in a specific subject.')"
   ]
  },
  {
   "cell_type": "code",
   "execution_count": null,
   "id": "7802805b-42f5-451f-b83b-9bcf72d04312",
   "metadata": {},
   "outputs": [],
   "source": []
  }
 ],
 "metadata": {
  "kernelspec": {
   "display_name": "Python 3 (ipykernel)",
   "language": "python",
   "name": "python3"
  },
  "language_info": {
   "codemirror_mode": {
    "name": "ipython",
    "version": 3
   },
   "file_extension": ".py",
   "mimetype": "text/x-python",
   "name": "python",
   "nbconvert_exporter": "python",
   "pygments_lexer": "ipython3",
   "version": "3.11.7"
  }
 },
 "nbformat": 4,
 "nbformat_minor": 5
}
