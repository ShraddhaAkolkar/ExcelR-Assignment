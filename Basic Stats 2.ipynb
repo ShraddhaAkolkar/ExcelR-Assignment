{
 "cells": [
  {
   "cell_type": "code",
   "execution_count": 26,
   "id": "b0ad1e61-3711-4e34-8968-093f6af1885f",
   "metadata": {},
   "outputs": [],
   "source": [
    "import numpy as np\n",
    "from scipy.stats import t"
   ]
  },
  {
   "cell_type": "code",
   "execution_count": 3,
   "id": "53243ca4-63dc-4039-9170-de13fe98a4f6",
   "metadata": {},
   "outputs": [],
   "source": [
    "data = np.array([1.13, 1.55, 1.43, 0.92, 1.25, 1.36, 1.32, 0.85, 1.07, 1.48, 1.20, 1.33, 1.18, 1.22, 1.29])"
   ]
  },
  {
   "cell_type": "code",
   "execution_count": 4,
   "id": "5f09b0e9-430b-443f-a7f9-1d3dcdf118f1",
   "metadata": {},
   "outputs": [
    {
     "data": {
      "text/plain": [
       "1.2386666666666666"
      ]
     },
     "execution_count": 4,
     "metadata": {},
     "output_type": "execute_result"
    }
   ],
   "source": [
    "sample_mean = np.mean(data)\n",
    "sample_mean"
   ]
  },
  {
   "cell_type": "code",
   "execution_count": 7,
   "id": "27a4b4ca-1829-400f-bbfd-b62cbdefd45a",
   "metadata": {},
   "outputs": [
    {
     "data": {
      "text/plain": [
       "0.18661427836285438"
      ]
     },
     "execution_count": 7,
     "metadata": {},
     "output_type": "execute_result"
    }
   ],
   "source": [
    "sample_std = np.std(data)\n",
    "sample_std"
   ]
  },
  {
   "cell_type": "code",
   "execution_count": 9,
   "id": "73061448-dcae-4839-bc3a-1cf6faec5acb",
   "metadata": {},
   "outputs": [
    {
     "data": {
      "text/plain": [
       "15"
      ]
     },
     "execution_count": 9,
     "metadata": {},
     "output_type": "execute_result"
    }
   ],
   "source": [
    "n = len(data)\n",
    "n"
   ]
  },
  {
   "cell_type": "code",
   "execution_count": 10,
   "id": "7a3dd3e7-3130-44e4-9ded-3b074972c434",
   "metadata": {},
   "outputs": [
    {
     "data": {
      "text/plain": [
       "14"
      ]
     },
     "execution_count": 10,
     "metadata": {},
     "output_type": "execute_result"
    }
   ],
   "source": [
    "# degrees of freedom\n",
    "df = n - 1  \n",
    "df"
   ]
  },
  {
   "cell_type": "markdown",
   "id": "b5b4dc23-1d51-4869-85b0-34c630d2a940",
   "metadata": {},
   "source": [
    "# Building 99% Confidence Interval Using Sample Standard Deviation"
   ]
  },
  {
   "cell_type": "code",
   "execution_count": 11,
   "id": "ae70612e-2327-4c0b-8973-0c77f3f008a1",
   "metadata": {},
   "outputs": [
    {
     "data": {
      "text/plain": [
       "2.97684273411266"
      ]
     },
     "execution_count": 11,
     "metadata": {},
     "output_type": "execute_result"
    }
   ],
   "source": [
    "t_value = t.ppf(0.995, df)  # (two-tail test)\n",
    "t_value"
   ]
  },
  {
   "cell_type": "code",
   "execution_count": 13,
   "id": "5f047bcb-938f-4a4e-b2ae-c92376e82d6d",
   "metadata": {},
   "outputs": [
    {
     "data": {
      "text/plain": [
       "0.14343499802810397"
      ]
     },
     "execution_count": 13,
     "metadata": {},
     "output_type": "execute_result"
    }
   ],
   "source": [
    "margin_of_error = t_value * (sample_std / np.sqrt(n))\n",
    "margin_of_error"
   ]
  },
  {
   "cell_type": "code",
   "execution_count": 16,
   "id": "0d7f991c-e7e8-4102-972e-6687ddf43988",
   "metadata": {},
   "outputs": [
    {
     "name": "stdout",
     "output_type": "stream",
     "text": [
      "1.0952316686385626 1.3821016646947706\n"
     ]
    }
   ],
   "source": [
    "conf_interval1 = sample_mean - margin_of_error\n",
    "conf_interval2 = sample_mean + margin_of_error\n",
    "print(conf_interval1,conf_interval2)"
   ]
  },
  {
   "cell_type": "code",
   "execution_count": 18,
   "id": "8056f602-8a9f-4890-8c8e-408d4a1a0cef",
   "metadata": {},
   "outputs": [
    {
     "name": "stdout",
     "output_type": "stream",
     "text": [
      "we reject the null hypothesis\n"
     ]
    }
   ],
   "source": [
    "if t_value < conf_interval1:\n",
    "    print(\"we reject the null hypothesis\")\n",
    "elif t_value > conf_interval2:\n",
    "    print(\"we reject the null hypothesis\")\n",
    "else:\n",
    "    print(\"we failed to reject the null hypothesis\")"
   ]
  },
  {
   "cell_type": "markdown",
   "id": "39b5f752-6efe-48ad-8488-5041a595bb0d",
   "metadata": {},
   "source": [
    "# Building 99% Confidence Interval Using Population Standard Deviation"
   ]
  },
  {
   "cell_type": "code",
   "execution_count": 31,
   "id": "d792de42-117f-4331-8d1f-e5cdff8c9c87",
   "metadata": {},
   "outputs": [],
   "source": [
    "from scipy.stats import norm"
   ]
  },
  {
   "cell_type": "code",
   "execution_count": 32,
   "id": "9f6fd330-4f5e-435b-aeaa-cb94b567c9ad",
   "metadata": {},
   "outputs": [],
   "source": [
    "# Know population standard deviation (assuming it's given)\n",
    "population_std = 0.2"
   ]
  },
  {
   "cell_type": "code",
   "execution_count": 34,
   "id": "4ab6f6bd-424f-498b-b186-c652bbf327bb",
   "metadata": {},
   "outputs": [
    {
     "data": {
      "text/plain": [
       "2.5758293035489004"
      ]
     },
     "execution_count": 34,
     "metadata": {},
     "output_type": "execute_result"
    }
   ],
   "source": [
    "## Calculate the z value\n",
    "z_value = norm.ppf(0.995)\n",
    "z_value"
   ]
  },
  {
   "cell_type": "code",
   "execution_count": 36,
   "id": "775bf8e6-e44c-4611-bba3-d9f4f36cf102",
   "metadata": {},
   "outputs": [
    {
     "data": {
      "text/plain": [
       "0.13301525327090588"
      ]
     },
     "execution_count": 36,
     "metadata": {},
     "output_type": "execute_result"
    }
   ],
   "source": [
    "margin_of_error = z_value * (population_std / np.sqrt(n))\n",
    "margin_of_error"
   ]
  },
  {
   "cell_type": "code",
   "execution_count": 37,
   "id": "9b2d1d5f-e32c-41e8-a36c-6d9eba4a9c36",
   "metadata": {},
   "outputs": [],
   "source": [
    "conf_interval1 = z_value - margin_of_error\n",
    "conf_interval2 = z_value + margin_of_error"
   ]
  },
  {
   "cell_type": "code",
   "execution_count": 39,
   "id": "0c4dedb4-4ba9-4206-9c7e-a638bc65c6d9",
   "metadata": {},
   "outputs": [
    {
     "data": {
      "text/plain": [
       "2.4428140502779945"
      ]
     },
     "execution_count": 39,
     "metadata": {},
     "output_type": "execute_result"
    }
   ],
   "source": [
    "conf_interval1"
   ]
  },
  {
   "cell_type": "code",
   "execution_count": 40,
   "id": "38cd904e-c572-485e-9e71-03468ab673c8",
   "metadata": {},
   "outputs": [
    {
     "data": {
      "text/plain": [
       "2.7088445568198063"
      ]
     },
     "execution_count": 40,
     "metadata": {},
     "output_type": "execute_result"
    }
   ],
   "source": [
    "conf_interval2"
   ]
  },
  {
   "cell_type": "code",
   "execution_count": 41,
   "id": "2ab98d57-76da-4c4d-bc36-ae0b7984bf43",
   "metadata": {},
   "outputs": [
    {
     "name": "stdout",
     "output_type": "stream",
     "text": [
      "we failed to reject the null hypothesis\n"
     ]
    }
   ],
   "source": [
    "if z_value < conf_interval1:\n",
    "    print(\"we reject the null hypothesis\")\n",
    "elif z_value > conf_interval2:\n",
    "    print(\"we reject the null hypothesis\")\n",
    "else:\n",
    "    print(\"we failed to reject the null hypothesis\")"
   ]
  },
  {
   "cell_type": "code",
   "execution_count": null,
   "id": "0194fd4c-e00b-4637-b673-5eb0eb10b0bf",
   "metadata": {},
   "outputs": [],
   "source": []
  },
  {
   "cell_type": "code",
   "execution_count": null,
   "id": "5670852b-2cdd-4911-aee8-be696c7c76a1",
   "metadata": {},
   "outputs": [],
   "source": []
  }
 ],
 "metadata": {
  "kernelspec": {
   "display_name": "Python 3 (ipykernel)",
   "language": "python",
   "name": "python3"
  },
  "language_info": {
   "codemirror_mode": {
    "name": "ipython",
    "version": 3
   },
   "file_extension": ".py",
   "mimetype": "text/x-python",
   "name": "python",
   "nbconvert_exporter": "python",
   "pygments_lexer": "ipython3",
   "version": "3.11.7"
  }
 },
 "nbformat": 4,
 "nbformat_minor": 5
}
